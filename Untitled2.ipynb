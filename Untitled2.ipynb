{
  "cells": [
    {
      "cell_type": "code",
      "execution_count": 2,
      "metadata": {
        "id": "wZaWwj1Yuzrx"
      },
      "outputs": [],
      "source": [
        "import os\n",
        "import time\n",
        "import tensorflow as tf\n",
        "import matplotlib.pyplot as plt\n",
        "from tensorflow.keras.optimizers import Adam\n",
        "from tensorflow.keras.preprocessing.image import ImageDataGenerator\n",
        "from tensorflow.keras.applications import EfficientNetB0\n",
        "\n",
        "from tensorflow.keras.layers import Dense, GlobalAveragePooling2D\n",
        "from tensorflow.keras.models import Model"
      ]
    },
    {
      "cell_type": "code",
      "execution_count": 3,
      "metadata": {},
      "outputs": [],
      "source": [
        "training =\"C:/Users/Nithin R/Downloads/Dataset-2/train\""
      ]
    },
    {
      "cell_type": "code",
      "execution_count": 4,
      "metadata": {},
      "outputs": [],
      "source": [
        "train_datagen = ImageDataGenerator(\n",
        "    rescale=1.0 / 255,\n",
        "    rotation_range=20,\n",
        "    width_shift_range=0.2,\n",
        "    height_shift_range=0.2,\n",
        "    shear_range=0.2,\n",
        "    zoom_range=0.2,\n",
        "    horizontal_flip=True,\n",
        "    fill_mode='nearest'\n",
        ")"
      ]
    },
    {
      "cell_type": "code",
      "execution_count": 11,
      "metadata": {},
      "outputs": [
        {
          "name": "stdout",
          "output_type": "stream",
          "text": [
            "Found 3833 images belonging to 5 classes.\n"
          ]
        }
      ],
      "source": [
        "batch_size = 64\n",
        "target_size = (224, 224)  # Reduce the image size\n",
        "train_generator = train_datagen.flow_from_directory(\n",
        "    os.path.join(training),\n",
        "    target_size=target_size,\n",
        "    batch_size=batch_size,\n",
        "    color_mode=\"rgb\",\n",
        "    class_mode='categorical',  # aUse 'categorical' for multi-class classification\n",
        "    shuffle=True,\n",
        "    seed=42\n",
        ")"
      ]
    },
    {
      "cell_type": "code",
      "execution_count": 12,
      "metadata": {},
      "outputs": [],
      "source": [
        "labels = (train_generator.class_indices)\n",
        "labels = dict((v,k) for k,v in labels.items())"
      ]
    },
    {
      "cell_type": "code",
      "execution_count": 13,
      "metadata": {},
      "outputs": [
        {
          "data": {
            "text/plain": [
              "{0: 'Mild', 1: 'Moderate', 2: 'No_DR', 3: 'Proliferate_DR', 4: 'Severe'}"
            ]
          },
          "execution_count": 13,
          "metadata": {},
          "output_type": "execute_result"
        }
      ],
      "source": [
        "labels"
      ]
    },
    {
      "cell_type": "code",
      "execution_count": 14,
      "metadata": {},
      "outputs": [],
      "source": [
        "base_model = EfficientNetB0(weights='imagenet', include_top=False, input_shape=(224, 224, 3))\n",
        "\n",
        "# Add your custom top layers for classification\n",
        "x = base_model.output\n",
        "x = GlobalAveragePooling2D()(x)\n",
        "x = Dense(1024, activation='relu')(x)\n",
        "predictions = Dense(5, activation='softmax')(x)  # Match the number of classes in your dataset\n",
        "\n",
        "# Create a new model by combining the base model and custom top layers\n",
        "model = Model(inputs=base_model.input, outputs=predictions)\n",
        "\n",
        "# Compile the model\n",
        "model.compile(optimizer=Adam(learning_rate=0.001),  # You can adjust the learning rate as needed\n",
        "              loss='categorical_crossentropy',  # Use the appropriate loss function\n",
        "              metrics=['accuracy']) "
      ]
    },
    {
      "cell_type": "code",
      "execution_count": 15,
      "metadata": {},
      "outputs": [
        {
          "name": "stdout",
          "output_type": "stream",
          "text": [
            "Epoch 1/25\n",
            "60/60 [==============================] - 767s 12s/step - loss: 0.7776 - accuracy: 0.7091\n",
            "Epoch 2/25\n",
            "60/60 [==============================] - 688s 11s/step - loss: 0.5637 - accuracy: 0.7892\n",
            "Epoch 3/25\n",
            "60/60 [==============================] - 699s 12s/step - loss: 0.5172 - accuracy: 0.8090\n",
            "Epoch 4/25\n",
            "60/60 [==============================] - 662s 11s/step - loss: 0.4689 - accuracy: 0.8244\n",
            "Epoch 5/25\n",
            "60/60 [==============================] - 653s 11s/step - loss: 0.4509 - accuracy: 0.8338\n",
            "Epoch 6/25\n",
            "60/60 [==============================] - 661s 11s/step - loss: 0.4069 - accuracy: 0.8442\n",
            "Epoch 7/25\n",
            "60/60 [==============================] - 652s 11s/step - loss: 0.3998 - accuracy: 0.8560\n",
            "Epoch 8/25\n",
            "60/60 [==============================] - 648s 11s/step - loss: 0.3780 - accuracy: 0.8599\n",
            "Epoch 9/25\n",
            "60/60 [==============================] - 652s 11s/step - loss: 0.3598 - accuracy: 0.8662\n",
            "Epoch 10/25\n",
            "60/60 [==============================] - 678s 11s/step - loss: 0.3565 - accuracy: 0.8628\n",
            "Epoch 11/25\n",
            "60/60 [==============================] - 658s 11s/step - loss: 0.3365 - accuracy: 0.8761\n",
            "Epoch 12/25\n",
            "60/60 [==============================] - 652s 11s/step - loss: 0.3014 - accuracy: 0.8844\n",
            "Epoch 13/25\n",
            "60/60 [==============================] - 656s 11s/step - loss: 0.2984 - accuracy: 0.8873\n",
            "Epoch 14/25\n",
            "60/60 [==============================] - 642s 11s/step - loss: 0.2831 - accuracy: 0.8962\n",
            "Epoch 15/25\n",
            "60/60 [==============================] - 635s 11s/step - loss: 0.2666 - accuracy: 0.8977\n",
            "Epoch 16/25\n",
            "60/60 [==============================] - 646s 11s/step - loss: 0.2624 - accuracy: 0.9011\n",
            "Epoch 17/25\n",
            "60/60 [==============================] - 641s 11s/step - loss: 0.2510 - accuracy: 0.9045\n",
            "Epoch 18/25\n",
            "60/60 [==============================] - 644s 11s/step - loss: 0.2297 - accuracy: 0.9149\n",
            "Epoch 19/25\n",
            "60/60 [==============================] - 647s 11s/step - loss: 0.2405 - accuracy: 0.9126\n",
            "Epoch 20/25\n",
            "60/60 [==============================] - 644s 11s/step - loss: 0.2192 - accuracy: 0.9189\n",
            "Epoch 21/25\n",
            "60/60 [==============================] - 644s 11s/step - loss: 0.1988 - accuracy: 0.9246\n",
            "Epoch 22/25\n",
            "60/60 [==============================] - 653s 11s/step - loss: 0.2009 - accuracy: 0.9254\n",
            "Epoch 23/25\n",
            "60/60 [==============================] - 643s 11s/step - loss: 0.1848 - accuracy: 0.9303\n",
            "Epoch 24/25\n",
            "60/60 [==============================] - 646s 11s/step - loss: 0.1723 - accuracy: 0.9369\n",
            "Epoch 25/25\n",
            "60/60 [==============================] - 652s 11s/step - loss: 0.1682 - accuracy: 0.9361\n"
          ]
        },
        {
          "data": {
            "image/png": "[encoded data removed]",
            "text/plain": [
              "<Figure size 640x480 with 1 Axes>"
            ]
          },
          "metadata": {},
          "output_type": "display_data"
        },
        {
          "name": "stdout",
          "output_type": "stream",
          "text": [
            "Total runtime: 16465.49 seconds\n"
          ]
        }
      ],
      "source": [
        "start_time = time.time()\n",
        "history = model.fit(\n",
        "    train_generator,\n",
        "    epochs=25\n",
        ")\n",
        "\n",
        "# Record end time\n",
        "end_time = time.time()\n",
        "\n",
        "# Plot the accuracy graph\n",
        "plt.plot(history.history['accuracy'])\n",
        "plt.title('Model Accuracy')\n",
        "plt.xlabel('Epochs')\n",
        "plt.ylabel('Accuracy')\n",
        "plt.show()\n",
        "\n",
        "# Calculate and print the runtime\n",
        "runtime = end_time - start_time\n",
        "print(f\"Total runtime: {runtime:.2f} seconds\")\n"
      ]
    },
    {
      "cell_type": "code",
      "execution_count": 22,
      "metadata": {},
      "outputs": [
        {
          "name": "stdout",
          "output_type": "stream",
          "text": [
            "1/1 [==============================] - 0s 76ms/step\n",
            "[[0. 0. 1. 0. 0.]]\n",
            "2\n",
            "Predicted DR Type: No_DR\n"
          ]
        }
      ],
      "source": [
        "import numpy as np\n",
        "from tensorflow.keras.preprocessing import image\n",
        "\n",
        "# Define a function to make predictions\n",
        "def predict_DR_type(image_path):\n",
        "    # Load the image from the specified path\n",
        "    img = image.load_img(image_path, target_size=(224, 224))\n",
        "    img = image.img_to_array(img)\n",
        "    img = np.expand_dims(img, axis=0)\n",
        "    img = img / 255.0  # Normalize the image data\n",
        "\n",
        "    # Make predictions\n",
        "    predictions = model.predict(img)\n",
        "    print(predictions)\n",
        "\n",
        "    # Map class indices to class labels (assuming class indices 0, 1, 2, 3 correspond to tumor types)\n",
        "    class_labels = [\"Mild\",\"Moderate\",\"No_DR\", \"Proliferate_DR\",\"Sever\"]\n",
        "\n",
        "    # Get the predicted class label\n",
        "    predicted_class_index = np.argmax(predictions)\n",
        "    print(predicted_class_index)\n",
        "    predicted_class_label = class_labels[predicted_class_index]\n",
        "\n",
        "    return predicted_class_label\n",
        "\n",
        "# Example usage\n",
        "image_path = \"C:/Users/Nithin R/Downloads/Dataset-2/train/No_DR/ff4cd992667b.png\"  # Replace with the path to your image\n",
        "predicted_DR_type = predict_DR_type(image_path)\n",
        "print(f\"Predicted DR Type: {predicted_DR_type}\")\n"
      ]
    },
    {
      "cell_type": "code",
      "execution_count": null,
      "metadata": {},
      "outputs": [],
      "source": []
    }
  ],
  "metadata": {
    "colab": {
      "provenance": []
    },
    "kernelspec": {
      "display_name": "Python 3",
      "name": "python3"
    },
    "language_info": {
      "codemirror_mode": {
        "name": "ipython",
        "version": 3
      },
      "file_extension": ".py",
      "mimetype": "text/x-python",
      "name": "python",
      "nbconvert_exporter": "python",
      "pygments_lexer": "ipython3",
      "version": "3.9.5"
    }
  },
  "nbformat": 4,
  "nbformat_minor": 0
}
